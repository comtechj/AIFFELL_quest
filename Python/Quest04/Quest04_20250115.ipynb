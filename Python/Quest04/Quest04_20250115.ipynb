{
  "nbformat": 4,
  "nbformat_minor": 0,
  "metadata": {
    "colab": {
      "provenance": [],
      "include_colab_link": true
    },
    "kernelspec": {
      "name": "python3",
      "display_name": "Python 3"
    },
    "language_info": {
      "name": "python"
    }
  },
  "cells": [
    {
      "cell_type": "markdown",
      "metadata": {
        "id": "view-in-github",
        "colab_type": "text"
      },
      "source": [
        "<a href=\"https://colab.research.google.com/github/dev-ranger/AIFFELL_quest/blob/main/Python/Quest04/Quest04_20250115.ipynb\" target=\"_parent\"><img src=\"https://colab.research.google.com/assets/colab-badge.svg\" alt=\"Open In Colab\"/></a>"
      ]
    },
    {
      "cell_type": "code",
      "execution_count": null,
      "metadata": {
        "id": "Xc0cpKsxi87Z"
      },
      "outputs": [],
      "source": [
        "'''\n",
        "Quest\n",
        "\n",
        "사용자로부터 두 개의 정수와 연산자(+,-,*,/,**)를 입력받아 계산 결과를 출력하는 프로그램을 만들어주세요\n",
        "\n",
        "조건\n",
        "사용자가 입력한 값이 정수가 아닌 경우 ValueError를 처리하여 적절한 오류 메시지를 출력해야 합니다\n",
        "정수가 입력될 때 까지 “잘못된 입력입니다. 정수를 입력해주세요.”를 출력하며 다시 입력받기를 시도합니다.\n",
        "나눗셈 연산 시 두 번째 정수가 0인 경우 ZeroDivisionError를 처리하여 적절한 오류 메시지를 출력합니다.\n",
        "사용자가 지원하지 않는 연산자를 입력한 경우 적절한 오류 메시지를 출력합니다.\n",
        "math 모듈을 사용하여 제곱 연산(**)을 지원합니다.\n",
        "계산기를 통해 계속 계산을 할 것인지 입력받습니다.\n",
        "\n",
        "\n",
        "한 단계의 계산이 되는 부분만 먼져 구현 -> 구현이 끝나면\n",
        "입력받기 (사용자로부터 받는 총 3)\n",
        "첫번째 숫자 : 숫자 넣게 str -> isdigit()\n",
        "두번째 연산자 :  + , - , * , / , ** 중에 입력해주세요\n",
        "두번째 숫자 : 숫자 넣게 str -> isdigit()\n",
        "# 이 아니라 -> 그냥 isdigit 필요 없고 try except 로 처리하면 됨\n",
        "-> 숫자들이 정수가 맞는지 확인 X\n",
        "   -> 에러 있으면 Exception ValueError처리 (O)\n",
        "\n",
        "연산자 확인\n",
        "  5개 중에 없으면 지원하지않는 연산자 처리\n",
        "\n",
        "연산자에 맞는 기능을 확인해서 기능 수행 및 결과값 print\n",
        "- > 덧셈, 뺄셈 ,나눗셈- ZeroDivisionError , 곱셈 ,거듭제곱\n",
        "'''\n",
        "\n",
        "\n",
        "'''\n",
        "num1 = 0\n",
        "num2 = 0\n",
        "count = 0\n",
        "while True :\n",
        "  if count < 1:\n",
        "    num1 = input(\"숫자를 입력해주세요:\")\n",
        "  else\n",
        "    print(f\"연산 결과값은 {num1} 입니다. 추가 연산을 진행해주세요.)\n",
        "\n",
        "  operation = input(\"연산자를 입력해주세요:\")\n",
        "  num2 = input(\"숫자를 입력해주세요:\")\n",
        "  rusult_num = 연산 기능 끝난뒤 결과값 입력\n",
        "  print(result_num)\n",
        "  else\n",
        "    num1 = result_num\n",
        "    count += 1\n",
        "'''\n"
      ]
    },
    {
      "cell_type": "code",
      "source": [],
      "metadata": {
        "id": "fmildn4kraxz"
      },
      "execution_count": null,
      "outputs": []
    },
    {
      "cell_type": "code",
      "source": [
        "from math import pow\n",
        "\n",
        "# print(pow(2,3))\n",
        "\n",
        "# 입력 받는 함수 (사용자로부터 받는 총 3)\n",
        "print(\"계산기입니다.\")\n",
        "def input_from_user():\n",
        "  try:\n",
        "    return int(input(\"정수를 입력하세요.: \"))\n",
        "  # 디버깅용\n",
        "  # print(number)\n",
        "  except ValueError as ve:\n",
        "    print(\"잘못된 입력입니다. 정수를 입력해주세요.:\")\n",
        "    return input_from_user()\n",
        "\n",
        "# 연산자를 입력 받는 함수\n",
        "def input_for_operator():\n",
        "  # 연산자의 입력이 제대로 되지 않았을 경우 계속 입력 받기 위해 Loop 이용\n",
        "  _op = ''\n",
        "  while True:\n",
        "    _op = input(\"연산자를 입력하세요: \")\n",
        "    # 디버깅용\n",
        "    # print(_op)\n",
        "\n",
        "    # 허용하는 연산자가 아닐 경우 에러메시지를 보여주고, 다시 입력 받아요\n",
        "    if not(_op == '+' or _op == '-' or _op == '*' or _op == '/' or _op == '**'):\n",
        "      print(\"지원하지 않는 연산자 입니다. \")\n",
        "      input(\"연산자를 입력하세요: \")\n",
        "    else:\n",
        "      break\n",
        "  return _op\n",
        "\n",
        "print(\"첫번째 입력 값입니다.\")\n",
        "num1 = input_from_user()\n",
        "# print(num1)\n",
        "\n",
        "op = input_for_operator()\n",
        "# print(f\"final op : {op}\")\n",
        "\n",
        "print(\"두번째 입력 값입니다.\")\n",
        "num2 = input_from_user()\n",
        "# print(num2)\n",
        "\n",
        "# 결과값을 담을 변수예요\n",
        "result = 0\n",
        "# 연산 수행이 제대로 이루어졌는지 확인하는 변수\n",
        "is_working = True\n",
        "\n",
        "# 연산을 시작합니다.\n",
        "if op == \"+\":\n",
        "  result = num1 + num2\n",
        "elif op == \"-\":\n",
        "  result = num1 - num2\n",
        "elif op == \"*\":\n",
        "  result = num1 * num2\n",
        "elif op == \"/\":\n",
        "  try:\n",
        "    result = num1 / num2\n",
        "  except ZeroDivisionError:\n",
        "    print(\"0으로 나눌 수 없습니다.\")\n",
        "    is_working = False\n",
        "elif op == \"**\":\n",
        "  result = pow(num1, num2)\n",
        "else:\n",
        "  # 향후 리팩토링 시 위에 연산자 채크 구문에 문제가 생겼을 경우 방어용\n",
        "  print(\"지원하지 않는 연산자입니다.\")\n",
        "  is_working = False\n",
        "\n",
        "if is_working:\n",
        "  print(f\"결과값은 {result}입니다.\")\n",
        "\n"
      ],
      "metadata": {
        "id": "DGKL__AGjI5X",
        "colab": {
          "base_uri": "https://localhost:8080/"
        },
        "outputId": "dada0b44-d77c-47e2-c190-0518c94b8e8a"
      },
      "execution_count": 22,
      "outputs": [
        {
          "output_type": "stream",
          "name": "stdout",
          "text": [
            "계산기입니다.\n",
            "첫번째 입력 값입니다.\n",
            "정수를 입력하세요.: 1\n",
            "연산자를 입력하세요: +\n",
            "두번째 입력 값입니다.\n",
            "정수를 입력하세요.: 2\n",
            "결과값은 3입니다.\n"
          ]
        }
      ]
    },
    {
      "cell_type": "code",
      "source": [
        "#연습\n",
        "from math import pow\n",
        "\n",
        "print(pow(2,3))"
      ],
      "metadata": {
        "colab": {
          "base_uri": "https://localhost:8080/"
        },
        "id": "3j-u06VZvO63",
        "outputId": "abdc128e-9d0e-43a1-bd6d-cf242cb3aa2c"
      },
      "execution_count": null,
      "outputs": [
        {
          "output_type": "stream",
          "name": "stdout",
          "text": [
            "8.0\n"
          ]
        }
      ]
    },
    {
      "cell_type": "code",
      "source": [
        "# 연산자 입력 받기 연습\n",
        "op = ''\n",
        "while True:\n",
        "  op = input(\"연산자를 입력하세요: \")\n",
        "  print(op)\n",
        "  if not(op == '+' or op == '-' or op == '*' or op == '/' or op == '**'):\n",
        "    input(\"연산자를 입력하세요: \")\n",
        "  else:\n",
        "    break\n",
        "\n",
        "print(f\"final op : {op}\")"
      ],
      "metadata": {
        "colab": {
          "base_uri": "https://localhost:8080/"
        },
        "id": "Njf1oIn9v9mc",
        "outputId": "896dbf54-b50c-4016-d0f1-36530c4110fc"
      },
      "execution_count": null,
      "outputs": [
        {
          "output_type": "stream",
          "name": "stdout",
          "text": [
            "연산자를 입력하세요: +\n",
            "+\n",
            "final op : +\n"
          ]
        }
      ]
    },
    {
      "cell_type": "markdown",
      "source": [
        "Pair Programming\n",
        "작업자: 류지호 & 윤원\n",
        "\n",
        "요구사항을 분석하고 이에 해당하는 기능단위로 분리해서 작업하려는 초반 협의를 진행\n",
        "\n",
        "코드의 양이 늘어남에 따라 생각할 부분들이 조금씩 더 많아진다는게 느껴졌음.\n",
        "많은 코드들을 읽고 익숙해져야 될 것 같다는 생각 - (지호)\n",
        "\n",
        "중간 중간 네비게이터로써 말씀 주시는 부분이 힌트가 되고 드라이버로써 진행하는데 많은 도움이 되었습니다. - (원)\n",
        "\n",
        "\n",
        "\n",
        "마지막 계속 입력할지 물어보고 진행하는 부분은 다른 기능들의 완성을 위해 시간적인 이슈로 진행하지 못함.\n",
        "\n"
      ],
      "metadata": {
        "id": "EmDRLQ2b5Iza"
      }
    }
  ]
}